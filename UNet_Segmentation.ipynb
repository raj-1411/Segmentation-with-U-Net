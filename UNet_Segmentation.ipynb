{
  "cells": [
    {
      "cell_type": "code",
      "execution_count": null,
      "metadata": {
        "id": "MhgLQ9PfNSt3"
      },
      "outputs": [],
      "source": [
        "import numpy as np\n",
        "import matplotlib.pyplot as plt\n",
        "import pandas as pd\n",
        "import sklearn\n",
        "from skimage.io import imread \n",
        "from PIL import Image\n",
        "import csv\n",
        "import torch\n",
        "import copy\n",
        "import torchvision\n",
        "from torchvision.datasets import ImageFolder\n",
        "from torch.utils.data import DataLoader, random_split\n",
        "from torch.utils import data\n",
        "import torchvision.transforms as transf\n",
        "import torch.nn.functional as F\n",
        "from torchvision.transforms.transforms import RandomAdjustSharpness\n",
        "import torch.nn as nn\n",
        "import random\n",
        "import cv2\n",
        "import math\n",
        "import os\n",
        "from torch import optim\n",
        "from torch.nn.modules.conv import ConvTranspose2d\n",
        "from torch.autograd import Function\n",
        "import glob"
      ]
    },
    {
      "cell_type": "code",
      "execution_count": null,
      "metadata": {
        "colab": {
          "base_uri": "https://localhost:8080/",
          "height": 156,
          "referenced_widgets": [
            "a4cc95d49647493a9f59d2eed26713ca",
            "72d0442018734a8ab2f33b2bc14974ef",
            "f8e7e516bb174d39b1c6a7f03f228d4f",
            "e1bb08b87a7c4af2959bd0a1a869178e",
            "aed0731758cc4b6fb15631b4dca26466",
            "0eb3ba0adef34c40a2fb39c24d84c0cd",
            "99584453f55948188cd7ce8c70d32a70",
            "247b205d3819458d94ccd2c9b9999d63",
            "eb1451dc42e041dc960640392fad30b3",
            "b968be9659f640b09f61ae45d8ffed87",
            "3e313b2c390f4689b50155b19e500e86"
          ]
        },
        "id": "I3JzeIYw95ZC",
        "outputId": "cec38b42-96f7-40d5-897c-497a63c12308"
      },
          ]
        },
        {
          "data": {
            "application/vnd.jupyter.widget-view+json": {
              "model_id": "a4cc95d49647493a9f59d2eed26713ca",
              "version_major": 2,
              "version_minor": 0
            },
            "text/plain": [
              "  0%|          | 0.00/44.7M [00:00<?, ?B/s]"
            ]
          },
          "metadata": {},
          "output_type": "display_data"
        }
      ],
      "source": [
        "model = torchvision.models.resnet18(pretrained=True)"
      ]
    },
    {
      "cell_type": "code",
      "execution_count": null,
      "metadata": {
        "id": "ea9ZkYYHelXh"
      },
      "outputs": [],
      "source": [
        "print(model)"
      ]
    },
    {
      "cell_type": "markdown",
      "metadata": {
        "id": "w1vVTRnU5GBX"
      },
      "source": [
        "# Our dataset's path and preprocessing\n"
      ]
    },
    {
      "cell_type": "code",
      "execution_count": null,
      "metadata": {
        "colab": {
          "base_uri": "https://localhost:8080/"
        },
        "id": "Wi8ZjN9-KSRl",
        "outputId": "bcefc775-e70a-4eec-bace-ece860b6c925"
      },
      "outputs": [
        {
          "name": "stdout",
          "output_type": "stream",
          "text": [
            "Mounted at /content/drive\n"
          ]
        }
      ],
      "source": [
        "from google.colab import drive\n",
        "drive.mount('/content/drive')"
      ]
    },
    {
      "cell_type": "markdown",
      "metadata": {
        "id": "YUVZape1oohP"
      },
      "source": [
        "Dataset pipeline"
      ]
    },
    {
      "cell_type": "code",
      "execution_count": null,
      "metadata": {
        "id": "7nfSrw5mFiDJ"
      },
      "outputs": [],
      "source": [
        "class SegDataset(data.Dataset):\n",
        "  \n",
        "  def __init__(self, img_list, msk_list, transform=None):\n",
        "    self.img_list = img_list\n",
        "    self.msk_list = msk_list\n",
        "    self.transforms = transform\n",
        "\n",
        "  def __len__(self):\n",
        "    return len(self.img_list)\n",
        "\n",
        "  @classmethod\n",
        "  def preprocess(self,pil_img, size):\n",
        "    # w,h = pil_img.size\n",
        "    # W,H = int(scale*w), int(scale*h)\n",
        "    pil_img = pil_img.resize((size,size))\n",
        "\n",
        "    img_nd = np.array(pil_img)\n",
        "\n",
        "    if len(img_nd.shape) == 2:\n",
        "      img_nd = np.expand_dims(img_nd, axis=2)\n",
        "\n",
        "    '''if tranforms are present paste them here'''\n",
        "\n",
        "    #HWC to CHW\n",
        "    img_trans = img_nd.transpose((2,0,1))\n",
        "    if img_trans.max() > 1:\n",
        "      img_trans = img_trans/225\n",
        "\n",
        "    return img_trans\n",
        "\n",
        "  def __getitem__(self, index):\n",
        "    input_ID = self.img_list[index]\n",
        "    target_ID = self.msk_list[index]\n",
        "\n",
        "    img = Image.open(input_ID)\n",
        "    msk = Image.open(target_ID)\n",
        "\n",
        "    ''' \n",
        "    assert img.size == msk.size, \\\n",
        "    f'Image and mask for {index} should be the same, but are {img.size} and {msk.size}'\n",
        "    '''\n",
        "    # preprocessing\n",
        "    img = self.preprocess(img, 224)\n",
        "    msk = self.preprocess(msk, 216)\n",
        "    \n",
        "    return {\n",
        "        'image': torch.from_numpy(img).type(torch.FloatTensor),\n",
        "        'mask': torch.from_numpy(msk).type(torch.FloatTensor)\n",
        "    }"
      ]
    },
    {
      "cell_type": "code",
      "execution_count": null,
      "metadata": {
        "id": "ZTx5mtfsK_Bc"
      },
      "outputs": [],
      "source": [
        "input_tr = glob.glob('/content/drive/MyDrive/PH2/train/input/*')\n",
        "# target_tr = glob.glob('/content/drive/MyDrive/PH2/train/target/*')\n",
        "# target_val = glob.glob('/content/drive/MyDrive/PH2/val/target/*')\n",
        "input_val = glob.glob('/content/drive/MyDrive/PH2/val/input/*')\n",
        "\n",
        "target_tr = [element[:-16]+'target'+element[-11:-4]+'_lesion'+element[-4:] for element in input_tr]\n",
        "target_val = [element[:-16]+'target'+element[-11:-4]+'_lesion'+element[-4:] for element in input_val]"
      ]
    },
    {
      "cell_type": "code",
      "execution_count": null,
      "metadata": {
        "colab": {
          "base_uri": "https://localhost:8080/"
        },
        "id": "vhDUdBpqsP2K",
        "outputId": "f9162450-8ef1-4358-ca32-8af1c739679f"
      },
            ]
          },
          "execution_count": 6,
          "metadata": {},
          "output_type": "execute_result"
        }
      ],
      "source": [
        "input_tr"
      ]
    },
    {
      "cell_type": "markdown",
      "metadata": {
        "id": "lHTQVkuo5tMO"
      },
      "source": [
        "# Hyperparameter Tuning and Dataloader"
      ]
    },
    {
      "cell_type": "code",
      "execution_count": null,
      "metadata": {
        "id": "rnSZRCggJQqU"
      },
      "outputs": [],
      "source": [
        "# Hyperparameter Tuning\n",
        "batch_size_tr = 30\n",
        "batch_size_val = 15\n",
        "epoch_n = 200\n",
        "n_channels = 3\n",
        "n_classes = 1\n",
        "l_rate = 0.01\n",
        "# img_scale = 1\n",
        "# mask_threshold = 0.5"
      ]
    },
    {
      "cell_type": "code",
      "execution_count": null,
      "metadata": {
        "id": "X2rn9A6ROcQK"
      },
      "outputs": [],
      "source": [
        "train_ds = SegDataset(input_tr, target_tr)#,transform=transforms_tr)\n",
        "val_ds = SegDataset(input_val, target_val)#,transform=transforms_val)\n",
        "# test_ds = ImageFolder('/content/drive/MyDrive/Lung_Carcinoma/data_folder_2/test/', transform=val_transform)\n",
        "train_load = DataLoader(dataset=train_ds, batch_size=batch_size_tr, shuffle=False, drop_last=False)\n",
        "val_load = DataLoader(dataset=val_ds, batch_size=batch_size_val, shuffle=False, drop_last=False)\n",
        "# test_load = DataLoader(dataset=test_ds, batch_size=batch_size_val, shuffle=True, drop_last=False)\n",
        "if torch.cuda.is_available():\n",
        "  device='cuda'\n",
        "else:\n",
        "  device='cpu'"
      ]
    },
    {
      "cell_type": "code",
      "execution_count": null,
      "metadata": {
        "colab": {
          "base_uri": "https://localhost:8080/"
        },
        "id": "sUfC3vu57saf",
        "outputId": "32f72188-2bef-453a-a0fa-6c3e6b8de740"
      },
      "outputs": [
        {
          "data": {
            "text/plain": [
              "<torch.utils.data.dataloader.DataLoader at 0x7fbbb1992ad0>"
            ]
          },
          "execution_count": 14,
          "metadata": {},
          "output_type": "execute_result"
        }
      ],
      "source": []
    },
    {
      "cell_type": "markdown",
      "metadata": {
        "id": "RJTj1RFy6FS3"
      },
      "source": [
        "# Structure of U-Net"
      ]
    },
    {
      "cell_type": "code",
      "execution_count": null,
      "metadata": {
        "id": "Xfw_r6DwFR_L"
      },
      "outputs": [],
      "source": [
        "# Segmentation architecture\n",
        "# U-Net\n",
        "\n",
        "class DoubleConv(nn.Module):\n",
        "  def __init__(self, in_channels, out_channels, mid_channels=None):\n",
        "    super().__init__()\n",
        "    if mid_channels is None:\n",
        "      mid_channels = out_channels\n",
        "    self.double_conv = nn.Sequential(\n",
        "        nn.Conv2d(in_channels, mid_channels, 3, 1),\n",
        "        nn.BatchNorm2d(mid_channels),\n",
        "        nn.ReLU(inplace=True),\n",
        "        nn.Conv2d(mid_channels, out_channels, 3, 1),\n",
        "        nn.BatchNorm2d(out_channels),\n",
        "        nn.ReLU(inplace=True)\n",
        "    )\n",
        "\n",
        "  def forward(self, x):\n",
        "    return self.double_conv(x)\n",
        "\n",
        "\n",
        "class Down(nn.Module):\n",
        "  def __init__(self, in_channels, out_channels):\n",
        "    super().__init__()\n",
        "    self.maxpool_conv = nn.Sequential(\n",
        "        nn.MaxPool2d(2),\n",
        "        DoubleConv(in_channels, out_channels)\n",
        "    )\n",
        "\n",
        "  def forward(self, x):\n",
        "    return self.maxpool_conv(x)\n",
        "\n",
        "\n",
        "class Up(nn.Module):\n",
        "  def __init__(self, in_channels, out_channels):\n",
        "    super().__init__()\n",
        "    self.up = nn.ConvTranspose2d(in_channels, in_channels//2, 2, 2)\n",
        "    self.conv = DoubleConv(in_channels, out_channels)\n",
        "\n",
        "  def forward(self, x1, x2):\n",
        "    x1=self.up(x1)\n",
        "    delta_W = x2.size()[3]-x1.size()[3]\n",
        "    delta_H = x2.size()[2]-x1.size()[2]\n",
        "    x1 = F.pad(x1,[delta_W//2,delta_W-delta_W//2,delta_H//2,delta_H-delta_H//2])\n",
        "    x = torch.cat([x2,x1],dim=1)\n",
        "    return self.conv(x)\n",
        "\n",
        "\n",
        "class FinalConv(nn.Module):\n",
        "  def __init__(self, in_channels, out_channels):\n",
        "    super().__init__()\n",
        "    self.conv_final = nn.Conv2d(in_channels, out_channels,1)\n",
        "\n",
        "  def forward(self,x):\n",
        "    return self.conv_final(x)\n",
        "\n",
        "\n",
        "class U_Net(nn.Module):\n",
        "  def __init__(self, in_channels, out_classes):\n",
        "    super(U_Net,self).__init__()\n",
        "    self.in_channels = in_channels\n",
        "    self.out_classes = out_classes\n",
        "\n",
        "    self.initial_conv = DoubleConv(in_channels, 64)\n",
        "    self.down1 = Down(64, 128)\n",
        "    self.down2 = Down(128, 256)\n",
        "    self.down3 = Down(256, 512)\n",
        "    self.down4 = Down(512, 1024)\n",
        "    self.up1 = Up(1024,512)\n",
        "    self.up2 = Up(512,256)\n",
        "    self.up3 = Up(256,128)\n",
        "    self.up4 = Up(128,64)\n",
        "    self.final = FinalConv(64, out_classes)\n",
        "    \n",
        "  \n",
        "  def forward(self,i):\n",
        "    i1 = self.initial_conv(i)\n",
        "    i2 = self.down1(i1)\n",
        "    i3 = self.down2(i2)\n",
        "    i4 = self.down3(i3)\n",
        "    i5 = self.down4(i4)\n",
        "    i = self.up1(i5,i4)\n",
        "    i = self.up2(i,i3)\n",
        "    i = self.up3(i,i2)\n",
        "    i = self.up4(i,i1)\n",
        "    i = self.final(i)\n",
        "    return i"
      ]
    },
    {
      "cell_type": "markdown",
      "metadata": {
        "id": "iIJ5l6vJ6Qgm"
      },
      "source": [
        "# Loss Functions (Dice Coeff and IOU Score)"
      ]
    },
    {
      "cell_type": "code",
      "execution_count": null,
      "metadata": {
        "id": "wx_FendLeJhV"
      },
      "outputs": [],
      "source": [
        "# loss functions\n",
        "\n",
        "'''IoU'''\n",
        "\n",
        "def get_IoU(src, tar):\n",
        "  '''print(src.shape)\n",
        "  src = torch.abs(src[0].view(1,-1))\n",
        "  src_1 = torch.floor(src/0.5) \n",
        "  tar = tar[0].view(-1,1)\n",
        "  #print(src.shape, tar.shape)'''\n",
        "  \n",
        "  src = torch.sigmoid(src)\n",
        "  inter = (src*tar).sum(dim=(1,2))\n",
        "  union_inter = (src+tar).sum(dim=(1,2))\n",
        "  #print(inter, union_inter)\n",
        "  score = (inter.float()+1)/((union_inter).float()+1)\n",
        "  return score\n",
        "\n",
        "def loss_iou(mask_gen, mask):\n",
        "    s=torch.FloatTensor(1).cuda().zero_()\n",
        "    for i,t in enumerate(zip(mask_gen, mask)):\n",
        "      # print(t[0].shape, t[1].shape)\n",
        "      s += get_IoU(t[0], t[1])\n",
        "    return 1-(s/(i+1))"
      ]
    },
    {
      "cell_type": "markdown",
      "metadata": {
        "id": "F6IK7r5j630X"
      },
      "source": [
        "# Model specifications and training"
      ]
    },
    {
      "cell_type": "code",
      "execution_count": null,
      "metadata": {
        "id": "NBpS3FgJtikn"
      },
      "outputs": [],
      "source": [
        "model = U_Net(n_channels, n_classes)\n",
        "#model = torch.load('/content/drive/MyDrive/ISBI_2016/model_wts_1.pth')\n",
        "# state=torch.load('/content/drive/MyDrive/PH2/model_wts/U_Net_weights_1.pth') # ekhane previous weight ta src korbi \n",
        "# model.load_state_dict(state['model_state'])\n",
        "model = model.to(device)\n",
        "# DiceCoeff()\n",
        "# criterion = nn.MSELoss()\n",
        "# iou = IoU(num_classes=2)\n",
        "# criterion = criterion.to(device)\n",
        "optim = torch.optim.Adam(model.parameters(), l_rate)\n",
        "# optim.load_state_dict(state['optimizer_state'])"
      ]
    },
    {
      "cell_type": "code",
      "execution_count": null,
      "metadata": {
        "id": "CEqb5JGqF4_j"
      },
      "outputs": [],
      "source": [
        "# Training\n",
        "\n",
        "def train(model, epoch_n, optim): #,criterion):\n",
        "  best_loss=1000.0 # ekhane previous best acc ta dibi in the format 0.XX\n",
        "  train_loss_list = []\n",
        "  val_loss_list = []\n",
        "  for epoch in range(epoch_n):\n",
        "    model.train()\n",
        "    train_loss=miou=total=dice_tr=0.0\n",
        "    for _,data in enumerate(train_load):\n",
        "      image = data['image'].to(device, dtype=torch.float32)\n",
        "      mask_type = torch.float32 if n_classes == 1 else torch.long\n",
        "      mask = data['mask'].to(device, dtype=mask_type)\n",
        "      with torch.set_grad_enabled(True):\n",
        "        mask_gen = model(image)\n",
        "        # print(mask_gen.shape)\n",
        "        # print(mask.shape)\n",
        "        loss = loss_dice(mask_gen,mask)\n",
        "        loss.backward()\n",
        "        optim.step()\n",
        "      optim.zero_grad()\n",
        "      train_loss += loss.item()\n",
        "      total += mask.size(0)\n",
        "      # iou.add(mask_gen, mask)\n",
        "      # _ ,miou_temp =  iou.value()\n",
        "      # miou += miou_temp\n",
        "      #dice_tr += dice_score(mask_gen,mask).item()\n",
        "    val_loss = eval(model)#, criterion)\n",
        "    epoch_train_loss = train_loss/len(train_ds)\n",
        "    print(\"Epoch: {}\".format(epoch+1))\n",
        "    print('-'*10)\n",
        "    print('Train Loss: {:.4f}'.format(epoch_train_loss))\n",
        "    epoch_val_loss = val_loss/len(val_ds)\n",
        "    print('Val Loss: {:.4f}'.format(epoch_val_loss))\n",
        "    print('\\n')\n",
        "    # iou_score = miou*100/total\n",
        "    '''print('Dice score train: {:.4f}'.format(dice_tr/len(train_load)))\n",
        "    print('\\n')\n",
        "    print('Dice score val: {:.4f}'.format(dice_val/len(val_load)))\n",
        "    print('\\n')'''\n",
        "    plt.imshow(mask_gen.cpu().detach().numpy()[-9][0])\n",
        "    # # plt.imshow(mask.cpu().detach().numpy()[-1].transpose((1,2,0)))\n",
        "    _, axarr = plt.subplots(1,3)\n",
        "    # #print(image.cpu().detach().numpy()[-1].shape)\n",
        "    # # axarr[2] = plt.imshow(mask_gen.cpu().detach().numpy()[-1][0])\n",
        "    # # axarr[1] = plt.imshow(mask.cpu().detach().numpy()[-1][0].transpose((1,2,0)))\n",
        "    axarr[0] = plt.imshow(image.cpu().detach().numpy()[-9].transpose((1,2,0)))\n",
        "    # input()\n",
        "    if epoch == epoch_n:\n",
        "      best_loss = epoch_val_loss\n",
        "      best_model_wts = copy.deepcopy(model.state_dict())\n",
        "      state={\n",
        "          \"model_state\":model.state_dict(),\n",
        "          \"optimizer_state\":optim.state_dict(),\n",
        "            }\n",
        "      torch.save(state,'/content/drive/MyDrive/PH2/model_wts/U_Net_weights_1_Dice.pth') # ekhane notun weight er src ta korbi \n",
        "    train_loss_list = train_loss_list + [epoch_train_loss]\n",
        "    val_loss_list = val_loss_list + [epoch_val_loss]\n",
        "  model = model.load_state_dict(best_model_wts)\n",
        "  print(\"The model with the best performance has a score of :{:.4f}\".format(best_loss))\n",
        "  return model, train_loss_list, val_loss_list  \n",
        "\n",
        "\n",
        "def eval(model):#, criterion):\n",
        "  model.eval()\n",
        "  with torch.no_grad():\n",
        "    val_loss=dice_val=0.0\n",
        "    for _,data in enumerate(val_load):\n",
        "      image = data['image'].to(device, dtype=torch.float32)\n",
        "      mask_type = torch.float32 if n_classes == 1 else torch.long\n",
        "      mask = data['mask'].to(device, dtype=mask_type)\n",
        "      mask_gen = model(image)\n",
        "      loss = loss_dice(mask_gen, mask)\n",
        "      val_loss += loss.item()\n",
        "      #dice_val += dice_score(mask_gen,mask).item()\n",
        "  return val_loss#, dice_val\n"
      ]
    },
    {
      "cell_type": "markdown",
      "metadata": {
        "id": "5EhovHMP7BQX"
      },
      "source": [
        "# Mask generation of entire dataset"
      ]
    },
    {
      "cell_type": "code",
      "execution_count": null,
      "metadata": {
        "id": "nyRseZm4_E2o"
      },
      "outputs": [],
      "source": [
        "print(mask_gen.shape)"
      ]
    },
    {
      "cell_type": "code",
      "execution_count": null,
      "metadata": {
        "id": "wL206U2fP1NC"
      },
      "outputs": [],
      "source": [
        "# 5-class\n",
        "model, train_loss_list, val_loss_list = train(model, epoch_n, optim)#, criterion)"
      ]
    },
    {
      "cell_type": "code",
      "execution_count": null,
      "metadata": {
        "id": "RcSaUHmoHaoL"
      },
      "outputs": [],
      "source": [
        "gt = open(r'/content/PH2_dataset.txt', 'r')\n",
        "list_one = gt.readlines()"
      ]
    },
    {
      "cell_type": "code",
      "execution_count": null,
      "metadata": {
        "colab": {
          "base_uri": "https://localhost:8080/"
        },
        "id": "yiNx-gsoOM6p",
        "outputId": "88a78aed-cc0f-4f13-8f4f-db832bf32530"
      },
      "outputs": [
        {
          "data": {
            "text/plain": [
              "201"
            ]
          },
          "execution_count": 15,
          "metadata": {},
          "output_type": "execute_result"
        }
      ],
      "source": [
        "len(list_one)"
      ]
    },
    {
      "cell_type": "code",
      "execution_count": null,
      "metadata": {
        "colab": {
          "base_uri": "https://localhost:8080/",
          "height": 35
        },
        "id": "_nSXeNgrQboV",
        "outputId": "f8e0d0fe-f31d-46ee-bbb0-7596357d7819"
      },
      "outputs": [
        {
          "data": {
            "application/vnd.google.colaboratory.intrinsic+json": {
              "type": "string"
            },
            "text/plain": [
              "'0'"
            ]
          },
          "execution_count": 38,
          "metadata": {},
          "output_type": "execute_result"
        }
      ],
      "source": [
        "list_one[1][56]#[3:9]"
      ]
    },
    {
      "cell_type": "code",
      "execution_count": null,
      "metadata": {
        "id": "yXla8abeTXy2"
      },
      "outputs": [],
      "source": [
        "class_list = [[element[3:9], element[56]] for element in list_one]"
      ]
    },
    {
      "cell_type": "code",
      "execution_count": null,
      "metadata": {
        "id": "DavLtH9FVFWY"
      },
      "outputs": [],
      "source": [
        "class_list = class_list[1:]\n",
        "class_list"
      ]
    },
    {
      "cell_type": "code",
      "execution_count": null,
      "metadata": {
        "colab": {
          "base_uri": "https://localhost:8080/"
        },
        "id": "HAk-WsEfVHLc",
        "outputId": "336ffc14-04b0-4c67-ff32-b0b5a3fabc99"
      },
      "outputs": [
        {
          "data": {
            "text/plain": [
              "200"
            ]
          },
          "execution_count": 42,
          "metadata": {},
          "output_type": "execute_result"
        }
      ],
      "source": [
        "/content/drive/MyDrive/PH2/train/input/IMD092.bmp"
      ]
    },
    {
      "cell_type": "code",
      "execution_count": null,
      "metadata": {
        "id": "0Bk5sJ32VUZI"
      },
      "outputs": [],
      "source": [
        "def eval(model):\n",
        "  model.eval()\n",
        "  with torch.no_grad():\n",
        "    # val_loss=dice_score=0.0\n",
        "    for i,data in enumerate(val_load):\n",
        "      image = data['image'].to(device, dtype=torch.float32)\n",
        "      mask_type = torch.float32 if n_classes == 1 else torch.long\n",
        "      mask = data['mask'].to(device, dtype=mask_type)\n",
        "      mask_gen = model(image)\n",
        "      path = input_val[i]\n",
        "      file_name = path[-10:-4]\n",
        "      for element, class_t in class_list:\n",
        "        if element == file_name:\n",
        "          class_type = class_t\n",
        "      if class_type == '0':\n",
        "        plt.imsave(path[:-17]+'_classifier/common_nevus/'+path[-10:], mask_gen[0][0].cpu().detach().numpy())\n",
        "      if class_type == '1':\n",
        "        plt.imsave(path[:-17]+'_classifier/atypical_nevus/'+path[-10:], mask_gen[0][0].cpu().detach().numpy())\n",
        "      if class_type == '2':\n",
        "        plt.imsave(path[:-17]+'_classifier/melanoma/'+path[-10:], mask_gen[0][0].cpu().detach().numpy())\n",
        "      # loss = criterion(mask_gen, mask)\n",
        "      # val_loss += loss.item()\n",
        "      # dice_score += dice_coeff(mask_gen,mask).item()"
      ]
    },
    {
      "cell_type": "code",
      "execution_count": null,
      "metadata": {
        "id": "jBnS2kEOcJ39"
      },
      "outputs": [],
      "source": [
        "eval(model)"
      ]
    }
  ],
  "metadata": {
    "accelerator": "GPU",
    "colab": {
      "collapsed_sections": [],
      "name": "UNet_OpenSource.ipynb",
      "provenance": []
    },
    "gpuClass": "standard",
    "kernelspec": {
      "display_name": "Python 3",
      "name": "python3"
    },
    "language_info": {
      "name": "python"
    },
    "widgets": {
      "application/vnd.jupyter.widget-state+json": {
        "0eb3ba0adef34c40a2fb39c24d84c0cd": {
          "model_module": "@jupyter-widgets/base",
          "model_module_version": "1.2.0",
          "model_name": "LayoutModel",
          "state": {
            "_model_module": "@jupyter-widgets/base",
            "_model_module_version": "1.2.0",
            "_model_name": "LayoutModel",
            "_view_count": null,
            "_view_module": "@jupyter-widgets/base",
            "_view_module_version": "1.2.0",
            "_view_name": "LayoutView",
            "align_content": null,
            "align_items": null,
            "align_self": null,
            "border": null,
            "bottom": null,
            "display": null,
            "flex": null,
            "flex_flow": null,
            "grid_area": null,
            "grid_auto_columns": null,
            "grid_auto_flow": null,
            "grid_auto_rows": null,
            "grid_column": null,
            "grid_gap": null,
            "grid_row": null,
            "grid_template_areas": null,
            "grid_template_columns": null,
            "grid_template_rows": null,
            "height": null,
            "justify_content": null,
            "justify_items": null,
            "left": null,
            "margin": null,
            "max_height": null,
            "max_width": null,
            "min_height": null,
            "min_width": null,
            "object_fit": null,
            "object_position": null,
            "order": null,
            "overflow": null,
            "overflow_x": null,
            "overflow_y": null,
            "padding": null,
            "right": null,
            "top": null,
            "visibility": null,
            "width": null
          }
        },
        "247b205d3819458d94ccd2c9b9999d63": {
          "model_module": "@jupyter-widgets/base",
          "model_module_version": "1.2.0",
          "model_name": "LayoutModel",
          "state": {
            "_model_module": "@jupyter-widgets/base",
            "_model_module_version": "1.2.0",
            "_model_name": "LayoutModel",
            "_view_count": null,
            "_view_module": "@jupyter-widgets/base",
            "_view_module_version": "1.2.0",
            "_view_name": "LayoutView",
            "align_content": null,
            "align_items": null,
            "align_self": null,
            "border": null,
            "bottom": null,
            "display": null,
            "flex": null,
            "flex_flow": null,
            "grid_area": null,
            "grid_auto_columns": null,
            "grid_auto_flow": null,
            "grid_auto_rows": null,
            "grid_column": null,
            "grid_gap": null,
            "grid_row": null,
            "grid_template_areas": null,
            "grid_template_columns": null,
            "grid_template_rows": null,
            "height": null,
            "justify_content": null,
            "justify_items": null,
            "left": null,
            "margin": null,
            "max_height": null,
            "max_width": null,
            "min_height": null,
            "min_width": null,
            "object_fit": null,
            "object_position": null,
            "order": null,
            "overflow": null,
            "overflow_x": null,
            "overflow_y": null,
            "padding": null,
            "right": null,
            "top": null,
            "visibility": null,
            "width": null
          }
        },
        "3e313b2c390f4689b50155b19e500e86": {
          "model_module": "@jupyter-widgets/controls",
          "model_module_version": "1.5.0",
          "model_name": "DescriptionStyleModel",
          "state": {
            "_model_module": "@jupyter-widgets/controls",
            "_model_module_version": "1.5.0",
            "_model_name": "DescriptionStyleModel",
            "_view_count": null,
            "_view_module": "@jupyter-widgets/base",
            "_view_module_version": "1.2.0",
            "_view_name": "StyleView",
            "description_width": ""
          }
        },
        "72d0442018734a8ab2f33b2bc14974ef": {
          "model_module": "@jupyter-widgets/controls",
          "model_module_version": "1.5.0",
          "model_name": "HTMLModel",
          "state": {
            "_dom_classes": [],
            "_model_module": "@jupyter-widgets/controls",
            "_model_module_version": "1.5.0",
            "_model_name": "HTMLModel",
            "_view_count": null,
            "_view_module": "@jupyter-widgets/controls",
            "_view_module_version": "1.5.0",
            "_view_name": "HTMLView",
            "description": "",
            "description_tooltip": null,
            "layout": "IPY_MODEL_0eb3ba0adef34c40a2fb39c24d84c0cd",
            "placeholder": "​",
            "style": "IPY_MODEL_99584453f55948188cd7ce8c70d32a70",
            "value": "100%"
          }
        },
        "99584453f55948188cd7ce8c70d32a70": {
          "model_module": "@jupyter-widgets/controls",
          "model_module_version": "1.5.0",
          "model_name": "DescriptionStyleModel",
          "state": {
            "_model_module": "@jupyter-widgets/controls",
            "_model_module_version": "1.5.0",
            "_model_name": "DescriptionStyleModel",
            "_view_count": null,
            "_view_module": "@jupyter-widgets/base",
            "_view_module_version": "1.2.0",
            "_view_name": "StyleView",
            "description_width": ""
          }
        },
        "a4cc95d49647493a9f59d2eed26713ca": {
          "model_module": "@jupyter-widgets/controls",
          "model_module_version": "1.5.0",
          "model_name": "HBoxModel",
          "state": {
            "_dom_classes": [],
            "_model_module": "@jupyter-widgets/controls",
            "_model_module_version": "1.5.0",
            "_model_name": "HBoxModel",
            "_view_count": null,
            "_view_module": "@jupyter-widgets/controls",
            "_view_module_version": "1.5.0",
            "_view_name": "HBoxView",
            "box_style": "",
            "children": [
              "IPY_MODEL_72d0442018734a8ab2f33b2bc14974ef",
              "IPY_MODEL_f8e7e516bb174d39b1c6a7f03f228d4f",
              "IPY_MODEL_e1bb08b87a7c4af2959bd0a1a869178e"
            ],
            "layout": "IPY_MODEL_aed0731758cc4b6fb15631b4dca26466"
          }
        },
        "aed0731758cc4b6fb15631b4dca26466": {
          "model_module": "@jupyter-widgets/base",
          "model_module_version": "1.2.0",
          "model_name": "LayoutModel",
          "state": {
            "_model_module": "@jupyter-widgets/base",
            "_model_module_version": "1.2.0",
            "_model_name": "LayoutModel",
            "_view_count": null,
            "_view_module": "@jupyter-widgets/base",
            "_view_module_version": "1.2.0",
            "_view_name": "LayoutView",
            "align_content": null,
            "align_items": null,
            "align_self": null,
            "border": null,
            "bottom": null,
            "display": null,
            "flex": null,
            "flex_flow": null,
            "grid_area": null,
            "grid_auto_columns": null,
            "grid_auto_flow": null,
            "grid_auto_rows": null,
            "grid_column": null,
            "grid_gap": null,
            "grid_row": null,
            "grid_template_areas": null,
            "grid_template_columns": null,
            "grid_template_rows": null,
            "height": null,
            "justify_content": null,
            "justify_items": null,
            "left": null,
            "margin": null,
            "max_height": null,
            "max_width": null,
            "min_height": null,
            "min_width": null,
            "object_fit": null,
            "object_position": null,
            "order": null,
            "overflow": null,
            "overflow_x": null,
            "overflow_y": null,
            "padding": null,
            "right": null,
            "top": null,
            "visibility": null,
            "width": null
          }
        },
        "b968be9659f640b09f61ae45d8ffed87": {
          "model_module": "@jupyter-widgets/base",
          "model_module_version": "1.2.0",
          "model_name": "LayoutModel",
          "state": {
            "_model_module": "@jupyter-widgets/base",
            "_model_module_version": "1.2.0",
            "_model_name": "LayoutModel",
            "_view_count": null,
            "_view_module": "@jupyter-widgets/base",
            "_view_module_version": "1.2.0",
            "_view_name": "LayoutView",
            "align_content": null,
            "align_items": null,
            "align_self": null,
            "border": null,
            "bottom": null,
            "display": null,
            "flex": null,
            "flex_flow": null,
            "grid_area": null,
            "grid_auto_columns": null,
            "grid_auto_flow": null,
            "grid_auto_rows": null,
            "grid_column": null,
            "grid_gap": null,
            "grid_row": null,
            "grid_template_areas": null,
            "grid_template_columns": null,
            "grid_template_rows": null,
            "height": null,
            "justify_content": null,
            "justify_items": null,
            "left": null,
            "margin": null,
            "max_height": null,
            "max_width": null,
            "min_height": null,
            "min_width": null,
            "object_fit": null,
            "object_position": null,
            "order": null,
            "overflow": null,
            "overflow_x": null,
            "overflow_y": null,
            "padding": null,
            "right": null,
            "top": null,
            "visibility": null,
            "width": null
          }
        },
        "e1bb08b87a7c4af2959bd0a1a869178e": {
          "model_module": "@jupyter-widgets/controls",
          "model_module_version": "1.5.0",
          "model_name": "HTMLModel",
          "state": {
            "_dom_classes": [],
            "_model_module": "@jupyter-widgets/controls",
            "_model_module_version": "1.5.0",
            "_model_name": "HTMLModel",
            "_view_count": null,
            "_view_module": "@jupyter-widgets/controls",
            "_view_module_version": "1.5.0",
            "_view_name": "HTMLView",
            "description": "",
            "description_tooltip": null,
            "layout": "IPY_MODEL_b968be9659f640b09f61ae45d8ffed87",
            "placeholder": "​",
            "style": "IPY_MODEL_3e313b2c390f4689b50155b19e500e86",
            "value": " 44.7M/44.7M [00:01&lt;00:00, 53.6MB/s]"
          }
        },
        "eb1451dc42e041dc960640392fad30b3": {
          "model_module": "@jupyter-widgets/controls",
          "model_module_version": "1.5.0",
          "model_name": "ProgressStyleModel",
          "state": {
            "_model_module": "@jupyter-widgets/controls",
            "_model_module_version": "1.5.0",
            "_model_name": "ProgressStyleModel",
            "_view_count": null,
            "_view_module": "@jupyter-widgets/base",
            "_view_module_version": "1.2.0",
            "_view_name": "StyleView",
            "bar_color": null,
            "description_width": ""
          }
        },
        "f8e7e516bb174d39b1c6a7f03f228d4f": {
          "model_module": "@jupyter-widgets/controls",
          "model_module_version": "1.5.0",
          "model_name": "FloatProgressModel",
          "state": {
            "_dom_classes": [],
            "_model_module": "@jupyter-widgets/controls",
            "_model_module_version": "1.5.0",
            "_model_name": "FloatProgressModel",
            "_view_count": null,
            "_view_module": "@jupyter-widgets/controls",
            "_view_module_version": "1.5.0",
            "_view_name": "ProgressView",
            "bar_style": "success",
            "description": "",
            "description_tooltip": null,
            "layout": "IPY_MODEL_247b205d3819458d94ccd2c9b9999d63",
            "max": 46830571,
            "min": 0,
            "orientation": "horizontal",
            "style": "IPY_MODEL_eb1451dc42e041dc960640392fad30b3",
            "value": 46830571
          }
        }
      }
    }
  },
  "nbformat": 4,
  "nbformat_minor": 0
}
